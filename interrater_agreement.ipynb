{
 "cells": [
  {
   "cell_type": "code",
   "execution_count": null,
   "metadata": {},
   "outputs": [],
   "source": []
  },
  {
   "cell_type": "code",
   "execution_count": 1,
   "metadata": {},
   "outputs": [],
   "source": [
    "from inter_rater_agreement import calculate_inter_rate_agreement"
   ]
  },
  {
   "cell_type": "code",
   "execution_count": 2,
   "metadata": {},
   "outputs": [],
   "source": [
    "feature = \"gender\"\n",
    "values_groups = {\"male\": \"male\", \"female\": \"female\"}\n"
   ]
  },
  {
   "cell_type": "code",
   "execution_count": 3,
   "metadata": {},
   "outputs": [
    {
     "name": "stdout",
     "output_type": "stream",
     "text": [
      "train data size  =  302554\n",
      "gender==\"male\"\n",
      "Inter-rater agreement of male =  0.5106023742797271\n",
      "gender==\"female\"\n",
      "Inter-rater agreement of female =  0.4491385449664075\n",
      "Inter-rater agreement of both =  0.4746892963412057\n"
     ]
    }
   ],
   "source": [
    "calculate_inter_rate_agreement(feature=feature, values_groups=values_groups, input_data_dir=\"../liketrainer/\", min_count=3)"
   ]
  },
  {
   "cell_type": "code",
   "execution_count": 4,
   "metadata": {},
   "outputs": [
    {
     "name": "stdout",
     "output_type": "stream",
     "text": [
      "train data size  =  57398\n",
      "english_first_language==\"not_native\"\n",
      "Inter-rater agreement of not_native =  0.5009144107822066\n",
      "english_first_language==\"native\"\n",
      "Inter-rater agreement of native =  0.4646097852363489\n",
      "Inter-rater agreement of both =  0.4838827195108817\n"
     ]
    }
   ],
   "source": [
    "feature = \"english_first_language\"\n",
    "values_groups = {0: \"not_native\", 1: \"native\"}\n",
    "calculate_inter_rate_agreement(feature=feature, values_groups=values_groups, input_data_dir=\"../liketrainer/\", min_count=3)"
   ]
  },
  {
   "cell_type": "code",
   "execution_count": 5,
   "metadata": {},
   "outputs": [
    {
     "name": "stdout",
     "output_type": "stream",
     "text": [
      "train data size  =  384134\n",
      "age_group==\"under_30\"\n",
      "Inter-rater agreement of under_30 =  0.4726862887623079\n",
      "age_group==\"over_30\"\n",
      "Inter-rater agreement of over_30 =  0.5048192701314032\n",
      "Inter-rater agreement of both =  0.4855926582115445\n"
     ]
    }
   ],
   "source": [
    "feature = \"age_group\"\n",
    "values_groups = {'Under 18': 'under_30',\n",
    "                 '18-30' : 'under_30' ,\n",
    "                 '30-45' : 'over_30' , \n",
    "                 '45-60' : 'over_30' , \n",
    "                 'Over 60' : 'over_30'}\n",
    "calculate_inter_rate_agreement(feature=feature, values_groups=values_groups, input_data_dir=\"../liketrainer/\", min_count=3)"
   ]
  },
  {
   "cell_type": "code",
   "execution_count": 6,
   "metadata": {},
   "outputs": [
    {
     "name": "stdout",
     "output_type": "stream",
     "text": [
      "train data size  =  238412\n",
      "education==\"below_hs\"\n",
      "Inter-rater agreement of below_hs =  0.48859711725992083\n",
      "education==\"above_hs\"\n",
      "Inter-rater agreement of above_hs =  0.47674447151190247\n",
      "Inter-rater agreement of both =  0.48456096779270674\n"
     ]
    }
   ],
   "source": [
    "feature = \"education\"\n",
    "values_groups = {'none': 'below_hs',\n",
    "                 'some' : 'below_hs' ,\n",
    "                 'hs' : 'below_hs' , \n",
    "                 'bachelors' : 'above_hs' , \n",
    "                 'masters' : 'above_hs' , \n",
    "                 'doctorate' : 'above_hs' , \n",
    "                 'professional' : 'above_hs'}\n",
    "calculate_inter_rate_agreement(feature=feature, values_groups=values_groups, input_data_dir=\"../liketrainer/\", min_count=3)"
   ]
  },
  {
   "cell_type": "code",
   "execution_count": null,
   "metadata": {},
   "outputs": [],
   "source": []
  }
 ],
 "metadata": {
  "kernelspec": {
   "display_name": "Python 3.7.5 64-bit ('py3': conda)",
   "language": "python",
   "name": "python37564bitpy3condaeb963947bed74b548f579f5dc7c94c65"
  },
  "language_info": {
   "codemirror_mode": {
    "name": "ipython",
    "version": 3
   },
   "file_extension": ".py",
   "mimetype": "text/x-python",
   "name": "python",
   "nbconvert_exporter": "python",
   "pygments_lexer": "ipython3",
   "version": "3.7.5"
  }
 },
 "nbformat": 4,
 "nbformat_minor": 2
}
